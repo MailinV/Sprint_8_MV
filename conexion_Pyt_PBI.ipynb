{
 "cells": [
  {
   "cell_type": "code",
   "execution_count": null,
   "metadata": {},
   "outputs": [
    {
     "name": "stdout",
     "output_type": "stream",
     "text": [
      "df_companies\n",
      "df_credit_cards\n",
      "df_estat_targetes\n",
      "df_products\n",
      "df_transactions\n",
      "df_transactions_products\n",
      "df_transation_num_product\n",
      "df_users\n"
     ]
    }
   ],
   "source": [
    "import pandas as pd\n",
    "import matplotlib.pyplot as plt\n",
    "import seaborn as sns\n",
    "import numpy as np\n",
    "import squarify\n",
    "import mysql.connector \n",
    "\n",
    "conexion_bd = mysql.connector.connect(host='localhost',\n",
    "                                         database='transactions',\n",
    "                                         user='root',\n",
    "                                         password='root')\n",
    "        \n",
    "cursor = conexion_bd.cursor()\n",
    "cursor.execute(\"SHOW TABLES\")\n",
    "MySQL_tables = [table[0] for table in cursor.fetchall()]  \n",
    "\n",
    "for table in MySQL_tables:  \n",
    "    cursor.execute(f\"SELECT * FROM {table}\") # Ejecuta la consulta \"Select * From {tabla}\" para extraer los datos de c/tabla\n",
    "    columnas = [columna[0] for columna in cursor.description] # Obtención de lista de nombres de las columnas de la tabla \n",
    "    globals()[f'df_{table}'] = pd.DataFrame(cursor.fetchall(), columns=columnas) #Creación y nombramiento dinamico de pd.df\n",
    "    print(f'df_{table}')\n",
    "        \n",
    "cursor.close()\n",
    "conexion_bd.close()    \n",
    "\n",
    "    \n",
    "# Limpieza de datos\n",
    "\n",
    "df_products = df_products.astype({'price': object, 'weight': object})\n",
    "df_transactions = df_transactions.astype({'amount': object, 'declined': bool})\n",
    "\n",
    "df_transactions['amount'] = df_transactions['amount'].astype(str).str.replace('.',',')\n",
    "df_products['weight'] = df_products['weight'].astype(str).str.replace('.',',')\n",
    "df_products['price'] = df_products['price'].str.replace('[\\$]', '', regex=True).str.strip().astype(float)\n",
    "df_products['price'] = df_products['price'].astype(str).str.replace('.',',')\n",
    "\n",
    "#ejercicio 7 nivel 1\n",
    "df_product_transactions_products = pd.merge(df_products, df_transactions_products, left_on='id', right_on='product_id', how='outer')\n",
    "df_product_count = df_product_transactions_products.groupby(['id', 'price']).size().reset_index(name='veces_vendido')\n",
    "\n",
    "#ejercicio 2 nivel 2\n",
    "df_transactions_tran_prod = pd.merge(df_transactions, df_transactions_products, left_on='id', right_on='transaction_id')\n",
    "df_transactions_tran_prod_products = pd.merge(df_transactions_tran_prod, df_products, left_on='product_id', right_on='id')\n",
    "df_transactions_tran_prod_products['year'] = df_transactions_tran_prod_products['timestamp'].dt.year \n",
    "df_transactions_tran_prod_products = df_transactions_tran_prod_products.groupby(['product_id', 'price', 'year']).size().reset_index(name='cantidad_productos') \n"
   ]
  }
 ],
 "metadata": {
  "kernelspec": {
   "display_name": "Python 3",
   "language": "python",
   "name": "python3"
  },
  "language_info": {
   "codemirror_mode": {
    "name": "ipython",
    "version": 3
   },
   "file_extension": ".py",
   "mimetype": "text/x-python",
   "name": "python",
   "nbconvert_exporter": "python",
   "pygments_lexer": "ipython3",
   "version": "3.12.4"
  }
 },
 "nbformat": 4,
 "nbformat_minor": 2
}
